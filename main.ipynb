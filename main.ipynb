{
 "cells": [
  {
   "cell_type": "code",
   "execution_count": 1,
   "id": "797a4659-0ff9-4aa0-b0a4-780b9a16e034",
   "metadata": {},
   "outputs": [
    {
     "name": "stdout",
     "output_type": "stream",
     "text": [
      "WARNING:tensorflow:From C:\\Users\\yoges\\AppData\\Local\\Programs\\Python\\Python311\\Lib\\site-packages\\keras\\src\\losses.py:2976: The name tf.losses.sparse_softmax_cross_entropy is deprecated. Please use tf.compat.v1.losses.sparse_softmax_cross_entropy instead.\n",
      "\n"
     ]
    }
   ],
   "source": [
    "import numpy as np\n",
    "import matplotlib.pyplot as plt\n",
    "import os\n",
    "import math\n",
    "import shutil\n",
    "from keras.layers import Conv2D, MaxPool2D, Dropout, Flatten, Dense, BatchNormalization, GlobalAvgPool2D\n",
    "from keras.models import Sequential\n",
    "from keras.preprocessing.image import ImageDataGenerator,load_img,img_to_array\n",
    "import keras\n",
    "from keras.callbacks import ModelCheckpoint, EarlyStopping\n",
    "from keras.models import load_model"
   ]
  },
  {
   "cell_type": "code",
   "execution_count": 2,
   "id": "36b75580-2b8a-4d38-a28e-488e90152bfc",
   "metadata": {},
   "outputs": [],
   "source": [
    "#count no of images\n",
    "number_of_images = {}\n",
    "number_of_images['no'] = len(os.listdir('no'))\n",
    "number_of_images['yes'] = len(os.listdir('yes'))"
   ]
  },
  {
   "cell_type": "code",
   "execution_count": 3,
   "id": "9f3e1fc9-f2a2-41d3-91d4-63e65882d9de",
   "metadata": {
    "scrolled": true
   },
   "outputs": [
    {
     "name": "stdout",
     "output_type": "stream",
     "text": [
      "{'no': 17, 'yes': 17}\n"
     ]
    }
   ],
   "source": [
    "print(number_of_images)"
   ]
  },
  {
   "cell_type": "markdown",
   "id": "3f11b466-07e3-4b05-a12e-eda890abf655",
   "metadata": {},
   "source": [
    "# splitting the data\n",
    "->70% for Training\n",
    "->15% for validation\n",
    "->15% for testing"
   ]
  },
  {
   "cell_type": "code",
   "execution_count": 4,
   "id": "15228d32-5737-4223-8633-ddd191f4a066",
   "metadata": {},
   "outputs": [],
   "source": [
    "def datafolder(p, split):\n",
    "    if not os.path.exists(\"./\" + p):\n",
    "        os.mkdir(\"./\" + p)\n",
    "\n",
    "        for dir in os.listdir(\"./\"):\n",
    "            if dir in ['yes', 'no']:\n",
    "                os.makedirs(\"./\" + p + \"/\" + dir)\n",
    "\n",
    "                for img in np.random.choice(a=os.listdir(os.path.join(\"./\", dir)),\n",
    "                                            size=math.floor((split * number_of_images[dir]) - 5),\n",
    "                                            replace=False):\n",
    "                    o = os.path.join(\"./\", dir, img)\n",
    "                    d = os.path.join(\"./\" + p, dir)\n",
    "                    shutil.copy(o, d)\n",
    "                    os.remove(o)\n",
    "    else:\n",
    "        print(f\"{p} folder exists\")"
   ]
  },
  {
   "cell_type": "code",
   "execution_count": 5,
   "id": "c4b9c5aa-25af-44cf-abcb-1739bd033047",
   "metadata": {},
   "outputs": [
    {
     "name": "stdout",
     "output_type": "stream",
     "text": [
      "train folder exists\n",
      "val folder exists\n",
      "test folder exists\n"
     ]
    }
   ],
   "source": [
    "datafolder(\"train\",0.7)\n",
    "datafolder(\"val\",.15)\n",
    "datafolder(\"test\",0.15)"
   ]
  },
  {
   "cell_type": "markdown",
   "id": "af7443da-67f8-42b3-ae7a-6f3b5412814d",
   "metadata": {},
   "source": [
    "# Model building"
   ]
  },
  {
   "cell_type": "code",
   "execution_count": 6,
   "id": "6b363cab-96cd-4638-be0c-ef3291fde8b6",
   "metadata": {},
   "outputs": [
    {
     "name": "stdout",
     "output_type": "stream",
     "text": [
      "WARNING:tensorflow:From C:\\Users\\yoges\\AppData\\Local\\Programs\\Python\\Python311\\Lib\\site-packages\\keras\\src\\backend.py:873: The name tf.get_default_graph is deprecated. Please use tf.compat.v1.get_default_graph instead.\n",
      "\n",
      "WARNING:tensorflow:From C:\\Users\\yoges\\AppData\\Local\\Programs\\Python\\Python311\\Lib\\site-packages\\keras\\src\\layers\\pooling\\max_pooling2d.py:161: The name tf.nn.max_pool is deprecated. Please use tf.nn.max_pool2d instead.\n",
      "\n",
      "Model: \"sequential\"\n",
      "_________________________________________________________________\n",
      " Layer (type)                Output Shape              Param #   \n",
      "=================================================================\n",
      " conv2d (Conv2D)             (None, 222, 222, 16)      448       \n",
      "                                                                 \n",
      " conv2d_1 (Conv2D)           (None, 220, 220, 36)      5220      \n",
      "                                                                 \n",
      " max_pooling2d (MaxPooling2  (None, 110, 110, 36)      0         \n",
      " D)                                                              \n",
      "                                                                 \n",
      " conv2d_2 (Conv2D)           (None, 108, 108, 64)      20800     \n",
      "                                                                 \n",
      " max_pooling2d_1 (MaxPoolin  (None, 54, 54, 64)        0         \n",
      " g2D)                                                            \n",
      "                                                                 \n",
      " conv2d_3 (Conv2D)           (None, 52, 52, 128)       73856     \n",
      "                                                                 \n",
      " max_pooling2d_2 (MaxPoolin  (None, 26, 26, 128)       0         \n",
      " g2D)                                                            \n",
      "                                                                 \n",
      " dropout (Dropout)           (None, 26, 26, 128)       0         \n",
      "                                                                 \n",
      " flatten (Flatten)           (None, 86528)             0         \n",
      "                                                                 \n",
      " dense (Dense)               (None, 64)                5537856   \n",
      "                                                                 \n",
      " dropout_1 (Dropout)         (None, 64)                0         \n",
      "                                                                 \n",
      " dense_1 (Dense)             (None, 1)                 65        \n",
      "                                                                 \n",
      "=================================================================\n",
      "Total params: 5638245 (21.51 MB)\n",
      "Trainable params: 5638245 (21.51 MB)\n",
      "Non-trainable params: 0 (0.00 Byte)\n",
      "_________________________________________________________________\n",
      "WARNING:tensorflow:From C:\\Users\\yoges\\AppData\\Local\\Programs\\Python\\Python311\\Lib\\site-packages\\keras\\src\\optimizers\\__init__.py:309: The name tf.train.Optimizer is deprecated. Please use tf.compat.v1.train.Optimizer instead.\n",
      "\n"
     ]
    }
   ],
   "source": [
    "Model = Sequential()\n",
    "Model.add(Conv2D(filters=16, kernel_size=(3, 3), activation='relu', input_shape=(224, 224, 3)))\n",
    "Model.add(Conv2D(filters=36, kernel_size=(3, 3), activation='relu'))\n",
    "Model.add(MaxPool2D(pool_size=(2, 2)))\n",
    "Model.add(Conv2D(filters=64, kernel_size=(3, 3), activation='relu'))\n",
    "Model.add(MaxPool2D(pool_size=(2, 2)))\n",
    "Model.add(Conv2D(filters=128, kernel_size=(3, 3), activation='relu'))\n",
    "Model.add(MaxPool2D(pool_size=(2, 2)))\n",
    "Model.add(Dropout(rate=0.25))\n",
    "Model.add(Flatten())\n",
    "Model.add(Dense(units=64, activation='relu'))\n",
    "Model.add(Dropout(rate=0.25))\n",
    "Model.add(Dense(units=1, activation='sigmoid'))\n",
    "Model.summary()\n",
    "Model.compile(optimizer='adam', loss=keras.losses.binary_crossentropy, metrics=['accuracy'])"
   ]
  },
  {
   "cell_type": "markdown",
   "id": "bbae7df3-aa12-42d1-9d6c-f59b570bcded",
   "metadata": {},
   "source": [
    "# Data Generator"
   ]
  },
  {
   "cell_type": "code",
   "execution_count": 7,
   "id": "328a6adc-c8b3-4591-99f0-0365d3766474",
   "metadata": {},
   "outputs": [],
   "source": [
    "def preprocessing_images(path, image_data_generator):\n",
    "    image = image_data_generator.flow_from_directory(\n",
    "        directory=path,\n",
    "        target_size=(224, 224),\n",
    "        batch_size=32,\n",
    "        class_mode='binary'\n",
    "    )\n",
    "    return image\n",
    "    \n",
    "train_data_gen = ImageDataGenerator(\n",
    "    zoom_range=0.2,\n",
    "    shear_range=0.2,\n",
    "    rescale=1/255,\n",
    "    horizontal_flip=True\n",
    ")"
   ]
  },
  {
   "cell_type": "code",
   "execution_count": 8,
   "id": "be124fe1-097b-478f-90c5-d96bf89debdd",
   "metadata": {},
   "outputs": [
    {
     "name": "stdout",
     "output_type": "stream",
     "text": [
      "Found 166 images belonging to 2 classes.\n"
     ]
    }
   ],
   "source": [
    "train_data = preprocessing_images(\"./train\", train_data_gen)"
   ]
  },
  {
   "cell_type": "code",
   "execution_count": 9,
   "id": "73cefaa7-3369-4975-add6-867d39b477ad",
   "metadata": {},
   "outputs": [
    {
     "name": "stdout",
     "output_type": "stream",
     "text": [
      "Found 27 images belonging to 2 classes.\n"
     ]
    }
   ],
   "source": [
    "test_data_gen = ImageDataGenerator(rescale=1/255)\n",
    "test_data = preprocessing_images(\"./test\", test_data_gen)"
   ]
  },
  {
   "cell_type": "code",
   "execution_count": 10,
   "id": "deebb26c-4156-4778-ac14-c8f0813583e2",
   "metadata": {},
   "outputs": [
    {
     "name": "stdout",
     "output_type": "stream",
     "text": [
      "Found 27 images belonging to 2 classes.\n"
     ]
    }
   ],
   "source": [
    "val_data_gen = ImageDataGenerator(rescale=1/255)\n",
    "val_data = preprocessing_images(\"./val\", val_data_gen)"
   ]
  },
  {
   "cell_type": "code",
   "execution_count": 11,
   "id": "afe3bc2b-97d7-4a62-be2e-4b3a43688296",
   "metadata": {},
   "outputs": [],
   "source": [
    "es = EarlyStopping(monitor=\"val_accuracy\", min_delta=0.01, patience=3, verbose=1, mode='auto')\n",
    "mc = ModelCheckpoint(filepath=\"./bestmodel.h5\", monitor=\"val_accuracy\", verbose=1, save_best_only=True, mode='auto')\n",
    "cd = [es, mc]"
   ]
  },
  {
   "cell_type": "markdown",
   "id": "23f1d524-4346-4c65-ade8-fc4e7944c4b2",
   "metadata": {},
   "source": [
    "# model Training"
   ]
  },
  {
   "cell_type": "code",
   "execution_count": 12,
   "id": "44550318-ccc9-42be-8d1d-a206df395394",
   "metadata": {},
   "outputs": [
    {
     "name": "stdout",
     "output_type": "stream",
     "text": [
      "Epoch 1/30\n",
      "WARNING:tensorflow:From C:\\Users\\yoges\\AppData\\Local\\Programs\\Python\\Python311\\Lib\\site-packages\\keras\\src\\utils\\tf_utils.py:492: The name tf.ragged.RaggedTensorValue is deprecated. Please use tf.compat.v1.ragged.RaggedTensorValue instead.\n",
      "\n",
      "WARNING:tensorflow:From C:\\Users\\yoges\\AppData\\Local\\Programs\\Python\\Python311\\Lib\\site-packages\\keras\\src\\engine\\base_layer_utils.py:384: The name tf.executing_eagerly_outside_functions is deprecated. Please use tf.compat.v1.executing_eagerly_outside_functions instead.\n",
      "\n",
      "6/6 [==============================] - ETA: 0s - loss: 0.6989 - accuracy: 0.5964\n",
      "Epoch 1: val_accuracy improved from -inf to 0.81481, saving model to .\\bestmodel.h5\n"
     ]
    },
    {
     "name": "stderr",
     "output_type": "stream",
     "text": [
      "C:\\Users\\yoges\\AppData\\Local\\Programs\\Python\\Python311\\Lib\\site-packages\\keras\\src\\engine\\training.py:3103: UserWarning: You are saving your model as an HDF5 file via `model.save()`. This file format is considered legacy. We recommend using instead the native Keras format, e.g. `model.save('my_model.keras')`.\n",
      "  saving_api.save_model(\n"
     ]
    },
    {
     "name": "stdout",
     "output_type": "stream",
     "text": [
      "6/6 [==============================] - 10s 1s/step - loss: 0.6989 - accuracy: 0.5964 - val_loss: 0.6063 - val_accuracy: 0.8148\n",
      "Epoch 2/30\n",
      "6/6 [==============================] - ETA: 0s - loss: 0.6641 - accuracy: 0.6386\n",
      "Epoch 2: val_accuracy did not improve from 0.81481\n",
      "6/6 [==============================] - 6s 861ms/step - loss: 0.6641 - accuracy: 0.6386 - val_loss: 0.5030 - val_accuracy: 0.7407\n",
      "Epoch 3/30\n",
      "6/6 [==============================] - ETA: 0s - loss: 0.5809 - accuracy: 0.7169\n",
      "Epoch 3: val_accuracy did not improve from 0.81481\n",
      "6/6 [==============================] - 6s 884ms/step - loss: 0.5809 - accuracy: 0.7169 - val_loss: 0.5625 - val_accuracy: 0.7407\n",
      "Epoch 4/30\n",
      "6/6 [==============================] - ETA: 0s - loss: 0.5806 - accuracy: 0.7530\n",
      "Epoch 4: val_accuracy improved from 0.81481 to 0.85185, saving model to .\\bestmodel.h5\n",
      "6/6 [==============================] - 6s 1s/step - loss: 0.5806 - accuracy: 0.7530 - val_loss: 0.4258 - val_accuracy: 0.8519\n",
      "Epoch 5/30\n",
      "6/6 [==============================] - ETA: 0s - loss: 0.5723 - accuracy: 0.7289\n",
      "Epoch 5: val_accuracy did not improve from 0.85185\n",
      "6/6 [==============================] - 6s 982ms/step - loss: 0.5723 - accuracy: 0.7289 - val_loss: 0.4319 - val_accuracy: 0.8148\n",
      "Epoch 6/30\n",
      "6/6 [==============================] - ETA: 0s - loss: 0.5419 - accuracy: 0.7530\n",
      "Epoch 6: val_accuracy did not improve from 0.85185\n",
      "6/6 [==============================] - 5s 823ms/step - loss: 0.5419 - accuracy: 0.7530 - val_loss: 0.4493 - val_accuracy: 0.7407\n",
      "Epoch 7/30\n",
      "6/6 [==============================] - ETA: 0s - loss: 0.5671 - accuracy: 0.7349\n",
      "Epoch 7: val_accuracy did not improve from 0.85185\n",
      "6/6 [==============================] - 5s 968ms/step - loss: 0.5671 - accuracy: 0.7349 - val_loss: 0.4367 - val_accuracy: 0.8148\n",
      "Epoch 7: early stopping\n"
     ]
    }
   ],
   "source": [
    "hs = Model.fit(\n",
    "    train_data,\n",
    "    steps_per_epoch=len(train_data),\n",
    "    epochs=30,\n",
    "    verbose=1,\n",
    "    validation_data=val_data,\n",
    "    validation_steps=len(val_data),\n",
    "    callbacks=cd\n",
    ")"
   ]
  },
  {
   "cell_type": "markdown",
   "id": "605ab521-b2fb-4dae-8ba1-f903c5ac1620",
   "metadata": {},
   "source": [
    "# Model Graphical Interpretation"
   ]
  },
  {
   "cell_type": "code",
   "execution_count": 13,
   "id": "9046e7a5-eb11-445f-b349-00d6a4d89b2b",
   "metadata": {},
   "outputs": [
    {
     "data": {
      "image/png": "[encoded data removed]",
      "text/plain": [
       "<Figure size 640x480 with 1 Axes>"
      ]
     },
     "metadata": {},
     "output_type": "display_data"
    }
   ],
   "source": [
    "h = hs.history\n",
    "plt.plot(h['accuracy'])\n",
    "plt.plot(h['val_accuracy'],c=\"red\")\n",
    "plt.show()"
   ]
  },
  {
   "cell_type": "code",
   "execution_count": 14,
   "id": "63923813-b5bc-4d2c-84bc-e4134b71ab00",
   "metadata": {},
   "outputs": [
    {
     "data": {
      "image/png": "[encoded data removed]",
      "text/plain": [
       "<Figure size 640x480 with 1 Axes>"
      ]
     },
     "metadata": {},
     "output_type": "display_data"
    }
   ],
   "source": [
    "plt.plot(h['loss'])\n",
    "plt.plot(h['val_loss'],c=\"red\")\n",
    "plt.show()"
   ]
  },
  {
   "cell_type": "code",
   "execution_count": 15,
   "id": "0900529d-2f20-4c0d-9c39-33dff35b4003",
   "metadata": {},
   "outputs": [
    {
     "name": "stdout",
     "output_type": "stream",
     "text": [
      "1/1 [==============================] - 0s 319ms/step - loss: 0.5821 - accuracy: 0.8148\n",
      "The accuracy of the model on the test set is: 81.4814805984497\n"
     ]
    }
   ],
   "source": [
    "Model=load_model(\"bestmodel.h5\")\n",
    "acc = Model.evaluate(test_data)[1]\n",
    "print(f\"The accuracy of the model on the test set is: {acc*100}\")"
   ]
  }
 ],
 "metadata": {
  "kernelspec": {
   "display_name": "Python 3 (ipykernel)",
   "language": "python",
   "name": "python3"
  },
  "language_info": {
   "codemirror_mode": {
    "name": "ipython",
    "version": 3
   },
   "file_extension": ".py",
   "mimetype": "text/x-python",
   "name": "python",
   "nbconvert_exporter": "python",
   "pygments_lexer": "ipython3",
   "version": "3.11.5"
  }
 },
 "nbformat": 4,
 "nbformat_minor": 5
}
